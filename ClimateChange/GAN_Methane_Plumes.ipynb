{
  "nbformat": 4,
  "nbformat_minor": 0,
  "metadata": {
    "colab": {
      "provenance": [],
      "gpuType": "T4"
    },
    "kernelspec": {
      "name": "python3",
      "display_name": "Python 3"
    },
    "language_info": {
      "name": "python"
    },
    "accelerator": "GPU",
    "gpuClass": "standard"
  },
  "cells": [
    {
      "cell_type": "code",
      "execution_count": null,
      "metadata": {
        "id": "T-qBIcRYAXb1"
      },
      "outputs": [],
      "source": [
        "import tensorflow as tf\n",
        "import matplotlib.pyplot as plt\n",
        "import numpy as np\n",
        "from tensorflow.keras import layers\n",
        "import time\n",
        "import random\n",
        "from sklearn.model_selection import train_test_split\n",
        "from IPython import display\n",
        "from tabulate import tabulate"
      ]
    },
    {
      "cell_type": "code",
      "source": [
        "data = np.load('plume_sims.npy')\n",
        "data.shape"
      ],
      "metadata": {
        "colab": {
          "base_uri": "https://localhost:8080/"
        },
        "id": "owgvKhPmDC2e",
        "outputId": "3102398d-7281-465f-ea87-a61d024c13a8"
      },
      "execution_count": null,
      "outputs": [
        {
          "output_type": "execute_result",
          "data": {
            "text/plain": [
              "(354, 120, 120)"
            ]
          },
          "metadata": {},
          "execution_count": 2
        }
      ]
    },
    {
      "cell_type": "code",
      "source": [
        "plt.imshow(data[0])"
      ],
      "metadata": {
        "colab": {
          "base_uri": "https://localhost:8080/",
          "height": 451
        },
        "id": "67x-97YD_oEj",
        "outputId": "027b669d-cbd9-4bee-a65e-69b835d8e1fb"
      },
      "execution_count": null,
      "outputs": [
        {
          "output_type": "execute_result",
          "data": {
            "text/plain": [
              "<matplotlib.image.AxesImage at 0x7fc51455b1f0>"
            ]
          },
          "metadata": {},
          "execution_count": 4
        },
        {
          "output_type": "display_data",
          "data": {
            "text/plain": [
              "<Figure size 640x480 with 1 Axes>"
            ],
            "image/png": "[encoded data removed]"
          },
          "metadata": {}
        }
      ]
    },
    {
      "cell_type": "code",
      "source": [
        "temp1111 = data.flatten()"
      ],
      "metadata": {
        "id": "clsV8DRtO__y"
      },
      "execution_count": null,
      "outputs": []
    },
    {
      "cell_type": "code",
      "source": [
        "plt.hist(temp1111, bins = 1000, range = (0, 0.0001))\n",
        "plt.show() #not suitable for normalization"
      ],
      "metadata": {
        "colab": {
          "base_uri": "https://localhost:8080/",
          "height": 445
        },
        "id": "_Fw3d4zKEe-x",
        "outputId": "7c621b0d-79e1-484e-e70b-cdc9b3697d5f"
      },
      "execution_count": null,
      "outputs": [
        {
          "output_type": "display_data",
          "data": {
            "text/plain": [
              "<Figure size 640x480 with 1 Axes>"
            ],
            "image/png": "[encoded data removed]"
          },
          "metadata": {}
        }
      ]
    },
    {
      "cell_type": "markdown",
      "source": [
        "#Preprocessing"
      ],
      "metadata": {
        "id": "cuNmXc78iyR8"
      }
    },
    {
      "cell_type": "code",
      "source": [
        "data_reshape = data.reshape(data.shape[0], 120, 120, 1).astype('float32')\n",
        "data_reshape = (data_reshape - 127.5) / 127.5  # Normalize to [-1, 1]\n",
        "data_reshape.shape"
      ],
      "metadata": {
        "colab": {
          "base_uri": "https://localhost:8080/"
        },
        "id": "iBRh-rA6DH1J",
        "outputId": "5ce6d7cc-b983-4acc-89d6-71a4e8f8335c"
      },
      "execution_count": null,
      "outputs": [
        {
          "output_type": "execute_result",
          "data": {
            "text/plain": [
              "(354, 120, 120, 1)"
            ]
          },
          "metadata": {},
          "execution_count": 36
        }
      ]
    },
    {
      "cell_type": "code",
      "source": [
        "#data augmentation\n",
        "resize_and_rescale = tf.keras.Sequential([\n",
        "  layers.Resizing(80, 80)\n",
        "])\n",
        "\n",
        "data_augmentation = tf.keras.Sequential([\n",
        "  layers.RandomCrop(80,80),\n",
        "  layers.RandomRotation(0.3)\n",
        "])\n",
        "\n",
        "label = np.ones(354)\n",
        "train_images, X_test, y_train, y_test = train_test_split(data_reshape, label, test_size=0.2, random_state=9)\n",
        "train_images.shape"
      ],
      "metadata": {
        "colab": {
          "base_uri": "https://localhost:8080/"
        },
        "id": "jxGfgoDvEQ37",
        "outputId": "6e8d9d3e-47b7-4b79-c81b-6c8f1920e090"
      },
      "execution_count": null,
      "outputs": [
        {
          "output_type": "execute_result",
          "data": {
            "text/plain": [
              "(283, 120, 120, 1)"
            ]
          },
          "metadata": {},
          "execution_count": 37
        }
      ]
    },
    {
      "cell_type": "code",
      "source": [
        "#using augmentation to increase training data, while resizing test data but do not augment it\n",
        "def prepare(data, augment=False):\n",
        "  data = resize_and_rescale(data)\n",
        "\n",
        "  if augment:\n",
        "    data = data_augmentation(data, training = True)\n",
        "\n",
        "  return data\n",
        "\n",
        "temp = train_images.copy()\n",
        "train_images = prepare(train_images)\n",
        "for iter in range(10):\n",
        "  train_images = np.append(train_images, prepare(temp, augment=True), axis = 0)\n",
        "\n",
        "X_test = prepare(X_test)\n",
        "train_images.shape"
      ],
      "metadata": {
        "colab": {
          "base_uri": "https://localhost:8080/"
        },
        "id": "ntAABnO4EVVO",
        "outputId": "3981f898-1670-4509-f1a4-e6b56946ad3d"
      },
      "execution_count": null,
      "outputs": [
        {
          "output_type": "execute_result",
          "data": {
            "text/plain": [
              "(3113, 80, 80, 1)"
            ]
          },
          "metadata": {},
          "execution_count": 38
        }
      ]
    },
    {
      "cell_type": "code",
      "source": [
        "BUFFER_SIZE = 3500 # more than # of data\n",
        "BATCH_SIZE = 128\n",
        "\n",
        "# Batch and shuffle the data\n",
        "train_dataset = tf.data.Dataset.from_tensor_slices(train_images).shuffle(BUFFER_SIZE, reshuffle_each_iteration = True).batch(BATCH_SIZE,drop_remainder = True)"
      ],
      "metadata": {
        "id": "F3OydU9iDF_n"
      },
      "execution_count": null,
      "outputs": []
    },
    {
      "cell_type": "markdown",
      "source": [
        "#DCGAN"
      ],
      "metadata": {
        "id": "lzM3IxDqi6xz"
      }
    },
    {
      "cell_type": "code",
      "source": [
        "def make_generator_model():\n",
        "    model = tf.keras.Sequential()\n",
        "    model.add(layers.Dense(20*20*256, use_bias=False, input_shape=(100,)))\n",
        "    model.add(layers.BatchNormalization())\n",
        "    model.add(layers.LeakyReLU())\n",
        "\n",
        "    model.add(layers.Reshape((20, 20, 256)))\n",
        "    assert model.output_shape == (None, 20, 20, 256)\n",
        "\n",
        "    model.add(layers.Conv2DTranspose(128, (5, 5), strides=(1, 1), padding='same', use_bias=False))\n",
        "    assert model.output_shape == (None, 20, 20, 128)\n",
        "    model.add(layers.BatchNormalization())\n",
        "    model.add(layers.LeakyReLU())\n",
        "\n",
        "    model.add(layers.Conv2DTranspose(64, (5, 5), strides=(2, 2), padding='same', use_bias=False))\n",
        "    assert model.output_shape == (None, 40, 40, 64)\n",
        "    model.add(layers.BatchNormalization())\n",
        "    model.add(layers.LeakyReLU())\n",
        "\n",
        "    model.add(layers.Conv2DTranspose(1, (5, 5), strides=(2, 2), padding='same', use_bias=False, activation='tanh'))\n",
        "    assert model.output_shape == (None, 80, 80, 1)\n",
        "\n",
        "    return model\n",
        "\n",
        "def make_discriminator_model():\n",
        "    model = tf.keras.Sequential()\n",
        "    model.add(layers.Conv2D(64, (5, 5), strides=(2, 2), padding='same',\n",
        "                                     input_shape=[80, 80, 1]))\n",
        "    model.add(layers.LeakyReLU())\n",
        "    model.add(layers.Dropout(0.3))\n",
        "\n",
        "    model.add(layers.Conv2D(128, (5, 5), strides=(2, 2), padding='same'))\n",
        "    model.add(layers.LeakyReLU())\n",
        "    model.add(layers.Dropout(0.3))\n",
        "\n",
        "    model.add(layers.Flatten())\n",
        "    model.add(layers.Dense(1))\n",
        "\n",
        "    return model\n",
        "\n",
        "cross_entropy = tf.keras.losses.BinaryCrossentropy(from_logits=True)\n",
        "\n",
        "def discriminator_loss(real_output, fake_output):\n",
        "    real_loss = cross_entropy(tf.ones_like(real_output), real_output)\n",
        "    fake_loss = cross_entropy(tf.zeros_like(fake_output), fake_output)\n",
        "    total_loss = real_loss + fake_loss\n",
        "    return total_loss\n",
        "\n",
        "def generator_loss(fake_output):\n",
        "    return cross_entropy(tf.ones_like(fake_output), fake_output)"
      ],
      "metadata": {
        "id": "1b_j9Dh4EWUd"
      },
      "execution_count": null,
      "outputs": []
    },
    {
      "cell_type": "code",
      "source": [
        "generator = make_generator_model()\n",
        "discriminator = make_discriminator_model()\n",
        "\n",
        "noise = tf.random.normal([1, 100])\n",
        "generated_image = generator(noise, training=False)\n",
        "\n",
        "decision = discriminator(generated_image)\n",
        "print (decision)"
      ],
      "metadata": {
        "colab": {
          "base_uri": "https://localhost:8080/"
        },
        "id": "VhO2vBVpJWCN",
        "outputId": "e306e3ed-8caf-4d07-852b-592871e4d13a"
      },
      "execution_count": null,
      "outputs": [
        {
          "output_type": "stream",
          "name": "stdout",
          "text": [
            "tf.Tensor([[0.00011257]], shape=(1, 1), dtype=float32)\n"
          ]
        }
      ]
    },
    {
      "cell_type": "code",
      "source": [
        "EPOCHS = 1000\n",
        "noise_dim = 100\n",
        "num_examples_to_generate = 16\n",
        "seed = tf.random.normal([num_examples_to_generate, noise_dim])\n",
        "generator_optimizer = tf.keras.optimizers.Adam(learning_rate=2e-4, beta_1=0.5)\n",
        "discriminator_optimizer = tf.keras.optimizers.Adam(learning_rate=2e-4, beta_1=0.5)\n",
        "\n",
        "def generate_and_show_images(model, test_input):\n",
        "  predictions = model(test_input, training=False)\n",
        "\n",
        "  fig = plt.figure(figsize=(4, 4))\n",
        "\n",
        "  for i in range(predictions.shape[0]):\n",
        "      plt.subplot(4, 4, i+1)\n",
        "      plt.imshow(predictions[i, :, :, 0] * 127.5 + 127.5)\n",
        "      plt.axis('off')\n",
        "  plt.show()\n",
        "\n",
        "@tf.function\n",
        "def train_step(images):\n",
        "    noise = tf.random.normal([BATCH_SIZE, noise_dim])\n",
        "\n",
        "    with tf.GradientTape() as gen_tape, tf.GradientTape() as disc_tape:\n",
        "      generated_images = generator(noise, training=True)\n",
        " \n",
        "      real_output = discriminator(images, training=True)\n",
        "      fake_output = discriminator(generated_images, training=True)\n",
        "\n",
        "      gen_loss = generator_loss(fake_output)\n",
        "      disc_loss = discriminator_loss(real_output, fake_output)\n",
        "\n",
        "    gradients_of_generator = gen_tape.gradient(gen_loss, generator.trainable_variables)\n",
        "    gradients_of_discriminator = disc_tape.gradient(disc_loss, discriminator.trainable_variables)\n",
        "\n",
        "    #update generator and discriminator using computed gradient\n",
        "    generator_optimizer.apply_gradients(zip(gradients_of_generator, generator.trainable_variables))\n",
        "    discriminator_optimizer.apply_gradients(zip(gradients_of_discriminator, discriminator.trainable_variables))\n",
        "\n",
        "def train(dataset, epochs):\n",
        "  for epoch in range(epochs):\n",
        "    start = time.time()\n",
        "\n",
        "    for image_batch in dataset:\n",
        "      train_step(image_batch)\n",
        "\n",
        "    display.clear_output(wait=True)\n",
        "    generate_and_show_images(generator, seed)\n",
        "    print ('Time for epoch {} is {} sec'.format(epoch + 1, time.time()-start))\n",
        "\n",
        "  display.clear_output(wait=True)\n",
        "  generate_and_show_images(generator, seed)"
      ],
      "metadata": {
        "id": "TQb-bMekKmG7"
      },
      "execution_count": null,
      "outputs": []
    },
    {
      "cell_type": "code",
      "source": [
        "EPOCHS = 1000\n",
        "train(train_dataset, EPOCHS)"
      ],
      "metadata": {
        "colab": {
          "base_uri": "https://localhost:8080/",
          "height": 345
        },
        "id": "PgmdkU4nONqC",
        "outputId": "078b59d0-99a7-4180-b77f-4146c54423a4"
      },
      "execution_count": null,
      "outputs": [
        {
          "output_type": "display_data",
          "data": {
            "text/plain": [
              "<Figure size 400x400 with 16 Axes>"
            ],
            "image/png": "[encoded data removed]"
          },
          "metadata": {}
        }
      ]
    },
    {
      "cell_type": "code",
      "source": [
        "noise = tf.random.normal([1, 100])\n",
        "generated_image = generator(noise, training=False)\n",
        "\n",
        "plt.imshow(generated_image[0, :, :, 0])\n",
        "plt.colorbar()"
      ],
      "metadata": {
        "colab": {
          "base_uri": "https://localhost:8080/",
          "height": 450
        },
        "id": "nq3IS-lCOQB9",
        "outputId": "e84f0efb-0bd2-47bf-883d-f0498ecd4afb"
      },
      "execution_count": null,
      "outputs": [
        {
          "output_type": "execute_result",
          "data": {
            "text/plain": [
              "<matplotlib.colorbar.Colorbar at 0x7fe17418be50>"
            ]
          },
          "metadata": {},
          "execution_count": 93
        },
        {
          "output_type": "display_data",
          "data": {
            "text/plain": [
              "<Figure size 640x480 with 2 Axes>"
            ],
            "image/png": "[encoded data removed]"
          },
          "metadata": {}
        }
      ]
    },
    {
      "cell_type": "code",
      "source": [
        "#image segmentation: K means shows good result\n",
        "import cv2\n",
        "\n",
        "img = data[50]\n",
        "\n",
        "vectorized = img.reshape((-1,3))\n",
        "vectorized = np.float32(vectorized)\n",
        "\n",
        "criteria = (cv2.TERM_CRITERIA_EPS + cv2.TERM_CRITERIA_MAX_ITER, 10, 1.0)\n",
        "K = 20\n",
        "attempts=10\n",
        "ret,label,center=cv2.kmeans(vectorized,K,None,criteria,attempts,cv2.KMEANS_PP_CENTERS)\n",
        "\n",
        "center = np.uint8(center)\n",
        "\n",
        "res = center[label.flatten()]\n",
        "result_image = res.reshape((img.shape))\n",
        "\n",
        "figure_size = 15\n",
        "plt.figure(figsize=(figure_size,figure_size))\n",
        "plt.subplot(1,2,1),plt.imshow(img)\n",
        "plt.title('Original Image'), plt.xticks([]), plt.yticks([])\n",
        "plt.subplot(1,2,2),plt.imshow(result_image)\n",
        "plt.title('Segmented Image when K = %i' % K), plt.xticks([]), plt.yticks([])\n",
        "plt.show()"
      ],
      "metadata": {
        "colab": {
          "base_uri": "https://localhost:8080/",
          "height": 320
        },
        "id": "yrJkoLmqguSn",
        "outputId": "2b5559b8-b44b-49bd-a9d5-2702dc724121"
      },
      "execution_count": null,
      "outputs": [
        {
          "output_type": "display_data",
          "data": {
            "text/plain": [
              "<Figure size 1500x1500 with 2 Axes>"
            ],
            "image/png": "[encoded data removed]"
          },
          "metadata": {}
        }
      ]
    },
    {
      "cell_type": "markdown",
      "source": [
        "#Test discriminator as a classifier"
      ],
      "metadata": {
        "id": "sJtc334CiNJa"
      }
    },
    {
      "cell_type": "code",
      "source": [
        "def generate_fake_images(n_samples):\n",
        "    fake_imgs = tf.random.normal([n_samples, 80,80, 1])\n",
        "    y_fake = np.zeros((n_samples, 1))\n",
        "    return fake_imgs, y_fake\n",
        "\n",
        "X_fake, y_fake = generate_fake_images(71)\n",
        "\n",
        "X_fake_test = np.append(X_fake, X_test, axis = 0)\n",
        "\n",
        "temp_y_test = y_test.reshape((71,1))\n",
        "y_fake_test = np.append(y_fake, temp_y_test, axis = 0)\n",
        "\n",
        "def unison_shuffled_copies(a, b):\n",
        "    assert len(a) == len(b)\n",
        "    p = np.random.permutation(len(a))\n",
        "    return a[p], b[p]\n",
        "    \n",
        "X_fake_test, y_fake_test = unison_shuffled_copies(X_fake_test, y_fake_test)\n",
        "\n",
        "decision = discriminator(X_fake_test, training = False).numpy()\n",
        "decision[decision > 0] = 1.\n",
        "decision[decision < 0] = 0.\n",
        "\n",
        "temp_decision = np.append(decision,y_fake_test, axis = 1)"
      ],
      "metadata": {
        "id": "sS3ACqpwgyG3"
      },
      "execution_count": null,
      "outputs": []
    },
    {
      "cell_type": "code",
      "source": [
        "#show performance of the discriminator through precision, recall, f1 score\n",
        "tp = 0\n",
        "fn = 0\n",
        "fp = 0\n",
        "\n",
        "for x in temp_decision:\n",
        "  if x[0] == x[1]:\n",
        "    if x[0] == 1:\n",
        "      tp += 1;\n",
        "  elif x[0] == 0 and x[1] == 1:\n",
        "    fn += 1;\n",
        "  elif x[0] == 1 and x[1] == 0:\n",
        "    fp += 1;\n",
        "  else:\n",
        "    next;\n",
        "\n",
        "precision_dis = tp / (tp + fp)\n",
        "recall_dis = tp / (tp + fn)\n",
        "f1_score_dis = (2*tp) / (2*tp + fp + fn)\n",
        "\n",
        "mydata = [ ['precision_dis', 'recall_dis', 'f1_score_dis'], [precision_dis, recall_dis, f1_score_dis] ]\n",
        "\n",
        "print(tabulate(mydata))"
      ],
      "metadata": {
        "colab": {
          "base_uri": "https://localhost:8080/"
        },
        "id": "43MSv2xRh0de",
        "outputId": "12de34bf-c661-4aaa-f922-451f4eaca556"
      },
      "execution_count": null,
      "outputs": [
        {
          "output_type": "stream",
          "name": "stdout",
          "text": [
            "-------------  ------------------  ------------------\n",
            "precision_dis  recall_dis          f1_score_dis\n",
            "1.0            0.6197183098591549  0.7652173913043478\n",
            "-------------  ------------------  ------------------\n"
          ]
        }
      ]
    },
    {
      "cell_type": "markdown",
      "source": [
        "#CNN as a classifier"
      ],
      "metadata": {
        "id": "ZTRoEt3miJjC"
      }
    },
    {
      "cell_type": "code",
      "source": [
        "def CNN():\n",
        "  model = tf.keras.Sequential()\n",
        "\n",
        "  model.add(layers.Conv2D(16, (5,5), activation='relu', input_shape=(80, 80, 1)))\n",
        "  model.add(layers.MaxPooling2D(2, 2))\n",
        "\n",
        "  model.add(layers.Conv2D(32, (5,5), activation='relu'))\n",
        "  model.add(layers.MaxPooling2D(2, 2))\n",
        "\n",
        "  model.add(layers.Conv2D(64, (5,5), activation='relu'))\n",
        "  model.add(layers.MaxPooling2D(2, 2))\n",
        "\n",
        "  model.add(layers.Flatten())\n",
        "\n",
        "  model.add(layers.Dense(256, activation='relu'))\n",
        "\n",
        "  model.add(layers.Dense(1, activation='sigmoid'))\n",
        "\n",
        "  opt = tf.keras.optimizers.Adam(learning_rate=0.0001)\n",
        "\n",
        "  model.compile(loss='binary_crossentropy', optimizer=opt, metrics=['accuracy', tf.keras.metrics.Precision(), tf.keras.metrics.Recall()])\n",
        "\n",
        "  return model\n",
        "\n",
        "cnn = CNN()\n",
        "cnn.summary()"
      ],
      "metadata": {
        "colab": {
          "base_uri": "https://localhost:8080/"
        },
        "id": "QJkJk4pth9DF",
        "outputId": "c468675f-b6f3-4c27-f0f4-16dc245ac6b4"
      },
      "execution_count": null,
      "outputs": [
        {
          "output_type": "stream",
          "name": "stdout",
          "text": [
            "Model: \"sequential_17\"\n",
            "_________________________________________________________________\n",
            " Layer (type)                Output Shape              Param #   \n",
            "=================================================================\n",
            " conv2d_16 (Conv2D)          (None, 76, 76, 16)        416       \n",
            "                                                                 \n",
            " max_pooling2d_3 (MaxPooling  (None, 38, 38, 16)       0         \n",
            " 2D)                                                             \n",
            "                                                                 \n",
            " conv2d_17 (Conv2D)          (None, 34, 34, 32)        12832     \n",
            "                                                                 \n",
            " max_pooling2d_4 (MaxPooling  (None, 17, 17, 32)       0         \n",
            " 2D)                                                             \n",
            "                                                                 \n",
            " conv2d_18 (Conv2D)          (None, 13, 13, 64)        51264     \n",
            "                                                                 \n",
            " max_pooling2d_5 (MaxPooling  (None, 6, 6, 64)         0         \n",
            " 2D)                                                             \n",
            "                                                                 \n",
            " flatten_6 (Flatten)         (None, 2304)              0         \n",
            "                                                                 \n",
            " dense_12 (Dense)            (None, 256)               590080    \n",
            "                                                                 \n",
            " dense_13 (Dense)            (None, 1)                 257       \n",
            "                                                                 \n",
            "=================================================================\n",
            "Total params: 654,849\n",
            "Trainable params: 654,849\n",
            "Non-trainable params: 0\n",
            "_________________________________________________________________\n"
          ]
        }
      ]
    },
    {
      "cell_type": "code",
      "source": [
        "#generate \"positive data\"\n",
        "cnn_data = generator(noise, training=False).numpy()\n",
        "for iter in range(1000):\n",
        "  noise = tf.random.normal([1, 100])\n",
        "  cnn_data = np.append(cnn_data, generator(noise, training=False).numpy(), axis = 0)\n",
        "cnn_data.shape"
      ],
      "metadata": {
        "colab": {
          "base_uri": "https://localhost:8080/"
        },
        "id": "KocT5uyUiCoP",
        "outputId": "c95a0ac3-e33e-49a3-8183-b63978a491e1"
      },
      "execution_count": null,
      "outputs": [
        {
          "output_type": "execute_result",
          "data": {
            "text/plain": [
              "(1001, 80, 80, 1)"
            ]
          },
          "metadata": {},
          "execution_count": 127
        }
      ]
    },
    {
      "cell_type": "code",
      "source": [
        "#generate \"negative data\"\n",
        "def generate_fake_images(n_samples):\n",
        "    fake_imgs = tf.random.normal([n_samples, 80,80,1])\n",
        "    y_fake = np.zeros((n_samples, 1))\n",
        "    return fake_imgs, y_fake\n",
        "\n",
        "X_fake, y_fake = generate_fake_images(1001)\n",
        "\n",
        "X_fake_test = np.append(X_fake, cnn_data, axis = 0)\n",
        "\n",
        "y_real = np.ones((1001,1))\n",
        "y_fake_test = np.append(y_fake, y_real, axis = 0)\n",
        "\n",
        "def unison_shuffled_copies(a, b):\n",
        "    assert len(a) == len(b)\n",
        "    p = np.random.permutation(len(a))\n",
        "    return a[p], b[p]\n",
        "    \n",
        "X_fake_test, y_fake_test = unison_shuffled_copies(X_fake_test, y_fake_test)"
      ],
      "metadata": {
        "id": "d514xOCviIFy"
      },
      "execution_count": null,
      "outputs": []
    },
    {
      "cell_type": "code",
      "source": [
        "y_fake_test[18]"
      ],
      "metadata": {
        "colab": {
          "base_uri": "https://localhost:8080/"
        },
        "id": "tL2rGIaYiPT0",
        "outputId": "ce99b61e-008c-451a-b071-63333eb78826"
      },
      "execution_count": null,
      "outputs": [
        {
          "output_type": "execute_result",
          "data": {
            "text/plain": [
              "array([1.])"
            ]
          },
          "metadata": {},
          "execution_count": 129
        }
      ]
    },
    {
      "cell_type": "code",
      "source": [
        "plt.imshow(X_fake_test[18])"
      ],
      "metadata": {
        "colab": {
          "base_uri": "https://localhost:8080/",
          "height": 450
        },
        "id": "T6coOMWDig6t",
        "outputId": "25dcfbed-df3f-49df-9271-7bb5e043b461"
      },
      "execution_count": null,
      "outputs": [
        {
          "output_type": "execute_result",
          "data": {
            "text/plain": [
              "<matplotlib.image.AxesImage at 0x7fe0cbd3d390>"
            ]
          },
          "metadata": {},
          "execution_count": 130
        },
        {
          "output_type": "display_data",
          "data": {
            "text/plain": [
              "<Figure size 640x480 with 1 Axes>"
            ],
            "image/png": "[encoded data removed]"
          },
          "metadata": {}
        }
      ]
    },
    {
      "cell_type": "code",
      "source": [
        "#cnn train, val, and test set split\n",
        "X_train, X_test, y_train, y_test = train_test_split(X_fake_test, y_fake_test, test_size=0.2, random_state=9)\n",
        "X_train, X_val, y_train, y_val = train_test_split(X_train, y_train, test_size=0.2, random_state=9)"
      ],
      "metadata": {
        "id": "D0_jv2qcihn3"
      },
      "execution_count": null,
      "outputs": []
    },
    {
      "cell_type": "code",
      "source": [
        "history = cnn.fit(X_train, y_train, epochs=10, \n",
        "                    validation_data=(X_val, y_val))"
      ],
      "metadata": {
        "colab": {
          "base_uri": "https://localhost:8080/"
        },
        "id": "I9v7hkKxijgN",
        "outputId": "35644be0-f4cf-4c56-c004-132162938c29"
      },
      "execution_count": null,
      "outputs": [
        {
          "output_type": "stream",
          "name": "stdout",
          "text": [
            "Epoch 1/10\n",
            "40/40 [==============================] - 2s 15ms/step - loss: 0.1667 - accuracy: 0.9234 - precision_1: 1.0000 - recall_1: 0.8483 - val_loss: 0.0024 - val_accuracy: 1.0000 - val_precision_1: 1.0000 - val_recall_1: 1.0000\n",
            "Epoch 2/10\n",
            "40/40 [==============================] - 0s 8ms/step - loss: 5.0414e-04 - accuracy: 1.0000 - precision_1: 1.0000 - recall_1: 1.0000 - val_loss: 1.2487e-04 - val_accuracy: 1.0000 - val_precision_1: 1.0000 - val_recall_1: 1.0000\n",
            "Epoch 3/10\n",
            "40/40 [==============================] - 0s 8ms/step - loss: 8.6098e-05 - accuracy: 1.0000 - precision_1: 1.0000 - recall_1: 1.0000 - val_loss: 5.9119e-05 - val_accuracy: 1.0000 - val_precision_1: 1.0000 - val_recall_1: 1.0000\n",
            "Epoch 4/10\n",
            "40/40 [==============================] - 0s 8ms/step - loss: 4.3978e-05 - accuracy: 1.0000 - precision_1: 1.0000 - recall_1: 1.0000 - val_loss: 3.2412e-05 - val_accuracy: 1.0000 - val_precision_1: 1.0000 - val_recall_1: 1.0000\n",
            "Epoch 5/10\n",
            "40/40 [==============================] - 0s 7ms/step - loss: 2.5171e-05 - accuracy: 1.0000 - precision_1: 1.0000 - recall_1: 1.0000 - val_loss: 1.9569e-05 - val_accuracy: 1.0000 - val_precision_1: 1.0000 - val_recall_1: 1.0000\n",
            "Epoch 6/10\n",
            "40/40 [==============================] - 0s 7ms/step - loss: 1.5842e-05 - accuracy: 1.0000 - precision_1: 1.0000 - recall_1: 1.0000 - val_loss: 1.2922e-05 - val_accuracy: 1.0000 - val_precision_1: 1.0000 - val_recall_1: 1.0000\n",
            "Epoch 7/10\n",
            "40/40 [==============================] - 0s 7ms/step - loss: 1.0792e-05 - accuracy: 1.0000 - precision_1: 1.0000 - recall_1: 1.0000 - val_loss: 9.1106e-06 - val_accuracy: 1.0000 - val_precision_1: 1.0000 - val_recall_1: 1.0000\n",
            "Epoch 8/10\n",
            "40/40 [==============================] - 0s 7ms/step - loss: 7.7910e-06 - accuracy: 1.0000 - precision_1: 1.0000 - recall_1: 1.0000 - val_loss: 6.6898e-06 - val_accuracy: 1.0000 - val_precision_1: 1.0000 - val_recall_1: 1.0000\n",
            "Epoch 9/10\n",
            "40/40 [==============================] - 0s 7ms/step - loss: 5.7743e-06 - accuracy: 1.0000 - precision_1: 1.0000 - recall_1: 1.0000 - val_loss: 5.0053e-06 - val_accuracy: 1.0000 - val_precision_1: 1.0000 - val_recall_1: 1.0000\n",
            "Epoch 10/10\n",
            "40/40 [==============================] - 0s 7ms/step - loss: 4.3236e-06 - accuracy: 1.0000 - precision_1: 1.0000 - recall_1: 1.0000 - val_loss: 3.7599e-06 - val_accuracy: 1.0000 - val_precision_1: 1.0000 - val_recall_1: 1.0000\n"
          ]
        }
      ]
    },
    {
      "cell_type": "code",
      "source": [
        "history.history"
      ],
      "metadata": {
        "colab": {
          "base_uri": "https://localhost:8080/"
        },
        "id": "SoJE5oDaimCS",
        "outputId": "bdc66252-b35f-461c-9ece-80d06286ec88"
      },
      "execution_count": null,
      "outputs": [
        {
          "output_type": "execute_result",
          "data": {
            "text/plain": [
              "{'loss': [0.1666860282421112,\n",
              "  0.0005041371332481503,\n",
              "  8.609848009655252e-05,\n",
              "  4.3977604946121573e-05,\n",
              "  2.5170829758280888e-05,\n",
              "  1.5842420907574706e-05,\n",
              "  1.0791807653731667e-05,\n",
              "  7.791035386617295e-06,\n",
              "  5.7743295656109694e-06,\n",
              "  4.323648227000376e-06],\n",
              " 'accuracy': [0.9234374761581421, 1.0, 1.0, 1.0, 1.0, 1.0, 1.0, 1.0, 1.0, 1.0],\n",
              " 'precision_1': [1.0, 1.0, 1.0, 1.0, 1.0, 1.0, 1.0, 1.0, 1.0, 1.0],\n",
              " 'recall_1': [0.8482972383499146, 1.0, 1.0, 1.0, 1.0, 1.0, 1.0, 1.0, 1.0, 1.0],\n",
              " 'val_loss': [0.002426684834063053,\n",
              "  0.00012487079948186874,\n",
              "  5.911866173846647e-05,\n",
              "  3.241191734559834e-05,\n",
              "  1.9569415599107742e-05,\n",
              "  1.2922181667818222e-05,\n",
              "  9.110585779126268e-06,\n",
              "  6.689790097880177e-06,\n",
              "  5.005278580938466e-06,\n",
              "  3.7599065763060935e-06],\n",
              " 'val_accuracy': [1.0, 1.0, 1.0, 1.0, 1.0, 1.0, 1.0, 1.0, 1.0, 1.0],\n",
              " 'val_precision_1': [1.0, 1.0, 1.0, 1.0, 1.0, 1.0, 1.0, 1.0, 1.0, 1.0],\n",
              " 'val_recall_1': [1.0, 1.0, 1.0, 1.0, 1.0, 1.0, 1.0, 1.0, 1.0, 1.0]}"
            ]
          },
          "metadata": {},
          "execution_count": 133
        }
      ]
    },
    {
      "cell_type": "code",
      "source": [
        "test_loss, test_acc, test_precision, test_recall = cnn.evaluate(X_test,  y_test, verbose=4)"
      ],
      "metadata": {
        "id": "vXDZtc4niopa"
      },
      "execution_count": null,
      "outputs": []
    },
    {
      "cell_type": "code",
      "source": [
        "f1_score_cnn = (2 * test_precision * test_recall) / (test_precision + test_recall)\n",
        "mydata_cnn = [ ['precision_cnn', 'recall_cnn', 'f1_score_cnn'], [test_precision, test_recall, f1_score_cnn] ]\n",
        "\n",
        "print(tabulate(mydata_cnn))"
      ],
      "metadata": {
        "colab": {
          "base_uri": "https://localhost:8080/"
        },
        "id": "P0WbhrufJ1eb",
        "outputId": "02e8b764-6aff-41dd-d21d-0e85e2d86487"
      },
      "execution_count": null,
      "outputs": [
        {
          "output_type": "stream",
          "name": "stdout",
          "text": [
            "-------------  ----------  ------------\n",
            "precision_cnn  recall_cnn  f1_score_cnn\n",
            "1.0            1.0         1.0\n",
            "-------------  ----------  ------------\n"
          ]
        }
      ]
    }
  ]
}
