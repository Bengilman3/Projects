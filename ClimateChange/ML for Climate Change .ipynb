{
 "cells": [
  {
   "cell_type": "markdown",
   "id": "527e2087",
   "metadata": {},
   "source": [
    "1. Temperature anomaly plots \n",
    "\n",
    "Download the following global temperature anomaly datasets in CSV format from https://data.giss.nasa.gov/gistemp/:\n",
    "\n",
    "Combined Land-Surface Air and Sea-Surface Water Temperature Anomalies:\n",
    " “Global-mean monthly, seasonal, and annual means, 1880-present, updated through most recent month”\n",
    "\n",
    "AIRS v6 and AIRS v7 Temperature Anomalies:\n",
    "“Global-mean monthly, seasonal, and annual means, 2002-present, updated through most recent month” \n",
    "\n",
    "AIRS stands for Atmospheric Infrared Sounder and is a satellite based measure. Use the AIRS v6 data.\n",
    "\n",
    "Note from NOAA on why global averages are given as anomalies and not absolute temperatures: \n",
    "Using reference values computed on smaller (more local) scales over the same time period establishes a baseline from which anomalies are calculated. This effectively normalizes the data so they can be compared and combined to more accurately represent temperature patterns with respect to what is normal for different places within a region.\n",
    "For these reasons, large-area summaries incorporate anomalies, not the temperature itself. Anomalies more accurately describe climate variability over larger areas than absolute temperatures do, and they give a frame of reference that allows more meaningful comparisons between locations and more accurate calculations of temperature trends.\n",
    "\n",
    "Plot the annual (J-D) anomalies from these two datasets together on the same (labeled) x and y axes. Use information from the NASA website to explain why the AIRS values are lower than the land and sea surface data. "
   ]
  },
  {
   "cell_type": "code",
   "execution_count": 2,
   "id": "046e03e7",
   "metadata": {
    "scrolled": false
   },
   "outputs": [
    {
     "data": {
      "image/png": "[encoded data removed]",
      "text/plain": [
       "<Figure size 432x288 with 1 Axes>"
      ]
     },
     "metadata": {
      "needs_background": "light"
     },
     "output_type": "display_data"
    }
   ],
   "source": [
    "import pandas as pd\n",
    "import matplotlib.pyplot as plt\n",
    "from matplotlib.patches import Rectangle\n",
    "from matplotlib.collections import PatchCollection\n",
    "from matplotlib.colors import ListedColormap\n",
    "\n",
    "df_1880 = pd.read_csv('GLB.Ts+dSST1880.csv', skiprows=1)\n",
    "df_2002 = pd.read_csv('GLB.Ts+dSST2002.csv', skiprows = [0,2], skipfooter=46, engine='python')\n",
    "plt.plot(df_1880['Year'], df_1880['J-D'])\n",
    "plt.plot(df_2002['Year'], df_2002['J-D'])\n",
    "#display plot\n",
    "plt.show()"
   ]
  },
  {
   "cell_type": "markdown",
   "id": "b278c221",
   "metadata": {},
   "source": [
    "The AIRS dataset uses the Atmospheric Infrared Sounder (AIRS) which takes measurements of infrared radiation from the atmosphere and converts them into the quantities of temperature. Atmospheric temperatures decrease as height increases and are generally lower than surface level temperatures on land and sea. Thus, the anomaly values for the AIRS dataset are lower than that of the surface level data set because the measurements are lower. Additionally, the baseline years are different for the two datasets as the surface level data makes comparisons to the average temperature over the period 1951-1980. The AIRS data makes comparisons to the Corresponding L-OTI (Land-Ocean Temperature Index) anomaly data for 2007-2016. The temperature for the time period used by the AIRS dataset is greater than that of the Land and Surface dataset which is a reason that the anomalies are lower for the airs dataset (because the baseline to compare to is higher)."
   ]
  },
  {
   "cell_type": "markdown",
   "id": "1890d4eb",
   "metadata": {},
   "source": [
    "2. Climate stripes\n",
    "\n",
    "“Climate stripes” or “warming stripes” have become an international artistic sign of climate concern: https://en.wikipedia.org/wiki/Warming_stripes . \n",
    "\n",
    "Use the land and sea surface data (first dataset from Q1) to replicate this visualization with temperature anomalies. Your results should use the same blue-red color scheme and the figure width:height ratio should be no greater than 5:1 so that the stripe colors are clearly visible. Don't include ticks or tick labels on the axes; the plot should be just the stripes. "
   ]
  },
  {
   "cell_type": "code",
   "execution_count": 10,
   "id": "6b5f75bc",
   "metadata": {},
   "outputs": [
    {
     "data": {
      "text/plain": [
       "(0.0, 143.0)"
      ]
     },
     "execution_count": 10,
     "metadata": {},
     "output_type": "execute_result"
    },
    {
     "data": {
      "image/png": "[encoded data removed]",
      "text/plain": [
       "<Figure size 720x72 with 1 Axes>"
      ]
     },
     "metadata": {
      "needs_background": "light"
     },
     "output_type": "display_data"
    }
   ],
   "source": [
    "LIM = 0.7 # degrees\n",
    "\n",
    "anomaly = df_1880['J-D'].dropna()\n",
    "reference = anomaly.mean()\n",
    "cmap = ListedColormap([\n",
    "    '#08306b', '#08519c', '#2171b5', '#4292c6',\n",
    "    '#6baed6', '#9ecae1', '#c6dbef', '#deebf7',\n",
    "    '#fee0d2', '#fcbba1', '#fc9272', '#fb6a4a',\n",
    "    '#ef3b2c', '#cb181d', '#a50f15', '#67000d',\n",
    "])\n",
    "\n",
    "fig = plt.figure(figsize=(10, 1))\n",
    "\n",
    "ax = fig.add_axes([0, 0, 1, 1])\n",
    "ax.set_axis_off()\n",
    "\n",
    "# create a collection with a rectangle for each year\n",
    "\n",
    "col = PatchCollection([\n",
    "    Rectangle((y, 0), 1, 1)\n",
    "    for y in range(0, 142 + 1)\n",
    "])\n",
    "\n",
    "col.set_array(anomaly)\n",
    "col.set_cmap(cmap)\n",
    "col.set_clim(reference - LIM, reference + LIM)\n",
    "ax.add_collection(col)\n",
    "\n",
    "ax.set_ylim(0, 1)\n",
    "ax.set_xlim(0, 142 + 1)"
   ]
  },
  {
   "cell_type": "markdown",
   "id": "50cd6656",
   "metadata": {},
   "source": []
  },
  {
   "cell_type": "markdown",
   "id": "76eac2e4",
   "metadata": {},
   "source": [
    "3. Carbon per year \n",
    "\n",
    "Get the “Globally averaged marine surface annual mean data” (CSV) here: https://gml.noaa.gov/ccgg/trends/gl_data.html\n",
    "and use it to write a function that returns the average amount of carbon (ppm) in the atmosphere for a given year (averaged over months). \n",
    "\n",
    "Use your function to find the average for the year you were born and for the year I was born (1989). Which one is higher? \n"
   ]
  },
  {
   "cell_type": "code",
   "execution_count": 5,
   "id": "1067407f",
   "metadata": {},
   "outputs": [
    {
     "name": "stdout",
     "output_type": "stream",
     "text": [
      "Average carbon for year (2001) is: 370.57\n",
      "Average carbon for year (1989) is: 352.79\n"
     ]
    }
   ],
   "source": [
    "def avg_carbon(df, year):\n",
    "    print(\"Average carbon for year (\" + str(year) + \") is:\", df.loc[df['year'] == year]['mean'].to_string(index=False))\n",
    "data = pd.read_csv('co2_annmean_gl.csv', skiprows=54)\n",
    "avg_carbon(data, 2001)\n",
    "avg_carbon(data, 1989)"
   ]
  },
  {
   "cell_type": "markdown",
   "id": "175d00c8",
   "metadata": {},
   "source": []
  },
  {
   "cell_type": "markdown",
   "id": "7250e3df",
   "metadata": {},
   "source": [
    "The average amount of carbon in the atmosphere is greater for the year I was born than for the year the profressor was born (1989)."
   ]
  }
 ],
 "metadata": {
  "kernelspec": {
   "display_name": "Python 3 (ipykernel)",
   "language": "python",
   "name": "python3"
  },
  "language_info": {
   "codemirror_mode": {
    "name": "ipython",
    "version": 3
   },
   "file_extension": ".py",
   "mimetype": "text/x-python",
   "name": "python",
   "nbconvert_exporter": "python",
   "pygments_lexer": "ipython3",
   "version": "3.9.12"
  }
 },
 "nbformat": 4,
 "nbformat_minor": 5
}
