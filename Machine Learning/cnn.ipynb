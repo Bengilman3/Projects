{
 "cells": [
  {
   "cell_type": "markdown",
   "metadata": {},
   "source": [
    "# Homework 5: Neural Networks (100 points)\n",
    "\n",
    "In this homework, you will be implementing a fully connected neural network and a convolutional neural network using the PyTorch framework."
   ]
  },
  {
   "cell_type": "code",
   "execution_count": 3,
   "metadata": {},
   "outputs": [],
   "source": [
    "import torch\n",
    "import torchvision\n",
    "import torch.nn as nn\n",
    "import torch.nn.functional as F\n",
    "import torch.optim as optim\n",
    "from torchvision import datasets, transforms\n",
    "import matplotlib.pyplot as plt\n",
    "import numpy as np"
   ]
  },
  {
   "cell_type": "code",
   "execution_count": 4,
   "metadata": {},
   "outputs": [],
   "source": [
    "device = torch.device(\"cuda:0\" if torch.cuda.is_available() else \"cpu\")"
   ]
  },
  {
   "cell_type": "markdown",
   "metadata": {},
   "source": [
    "## Load the Dataset (MNIST)\n",
    "\n",
    "We can use some PyTorch DataLoader utilities for this. This will download, shuffle, normalize data and arrange it in batches."
   ]
  },
  {
   "cell_type": "code",
   "execution_count": 9,
   "metadata": {},
   "outputs": [],
   "source": [
    "input_size  = 28*28   # images are 28x28 pixels\n",
    "output_size = 10      # there are 10 classes\n",
    "\n",
    "train_dataset = datasets.MNIST('./data', train=True, download=True,\n",
    "                   transform=transforms.Compose([\n",
    "                       transforms.ToTensor(),\n",
    "                       transforms.Normalize((0.1307,), (0.3081,))\n",
    "                   ]))\n",
    "train_loader = torch.utils.data.DataLoader(train_dataset, batch_size=64, shuffle=True)\n",
    "\n",
    "test_dataset = datasets.MNIST('./data', train=False, transform=transforms.Compose([\n",
    "                       transforms.ToTensor(),\n",
    "                       transforms.Normalize((0.1307,), (0.3081,))\n",
    "                   ]))\n",
    "test_loader = torch.utils.data.DataLoader(test_dataset, batch_size=1000, shuffle=True)"
   ]
  },
  {
   "cell_type": "markdown",
   "metadata": {},
   "source": [
    "# Plotting Data\n",
    "\n",
    "You must sample 10 images (one from each class) from the dataset and plot them as a grid with 2 rows of 5 columns each (i.e. of shape `2 x 5`)."
   ]
  },
  {
   "cell_type": "code",
   "execution_count": 10,
   "metadata": {},
   "outputs": [
    {
     "data": {
      "image/png": "[encoded data removed]",
      "text/plain": [
       "<Figure size 1152x864 with 10 Axes>"
      ]
     },
     "metadata": {
      "needs_background": "light"
     },
     "output_type": "display_data"
    }
   ],
   "source": [
    "plt.figure(figsize=(16, 12))\n",
    "used_labels = []\n",
    "i=0\n",
    "j=0\n",
    "f=False\n",
    "while f == False:\n",
    "    label = train_dataset[i][1]\n",
    "    if label not in used_labels:\n",
    "        used_labels.append(label)\n",
    "        image, _ = train_loader.dataset.__getitem__(i)\n",
    "        plt.subplot(4, 5, j + 1)\n",
    "        plt.axis(\"off\")        \n",
    "        plt.imshow(image.squeeze().numpy())\n",
    "        i=i+1\n",
    "        j=j+1\n",
    "    else:\n",
    "        i=i+1\n",
    "    if len(used_labels) == 10:\n",
    "        f=True\n"
   ]
  },
  {
   "cell_type": "markdown",
   "metadata": {},
   "source": [
    "#### Train a Fully Connected Neural Network on MNIST"
   ]
  },
  {
   "cell_type": "markdown",
   "metadata": {},
   "source": [
    "### Define the network\n",
    "\n",
    "Build a 3-layer fully connected neural network that takes an input of size `784`, outputs `10` classes and has a hidden layer of size `(8,8)`. Use ReLU non-linearity and apply a logSoftmax function on the final layer.\n",
    "\n",
    "The model must have the following architecture:\n",
    "\n",
    "```\n",
    "linear_layer(input_size, n_hidden)\n",
    "relu\n",
    "linear_layer(n_hidden, n_hidden)\n",
    "relu\n",
    "linear_layer(n_hidden, output_size)\n",
    "log_softmax\n",
    "```"
   ]
  },
  {
   "cell_type": "code",
   "execution_count": 11,
   "metadata": {},
   "outputs": [],
   "source": [
    "class FCN(nn.Module):\n",
    "    def __init__(self, input_size, n_hidden, output_size):\n",
    "        super(FCN, self).__init__()\n",
    "        self.flatten = nn.Flatten()\n",
    "        self.relu = nn.ReLU()\n",
    "        self.linear1 = nn.Linear(input_size, n_hidden)\n",
    "        self.linear2 = nn.Linear(n_hidden, n_hidden)\n",
    "        self.linear3 = nn.Linear(n_hidden, output_size)\n",
    "        self.logsoftmax = nn.LogSoftmax(dim=1)\n",
    "        pass\n",
    "\n",
    "    def forward(self, x):\n",
    "        x = self.flatten(x)\n",
    "        x = self.relu(self.linear1(x))\n",
    "        x = self.relu(self.linear2(x))\n",
    "        logits = self.linear3(x)\n",
    "        return self.logsoftmax(logits)\n",
    "        pass"
   ]
  },
  {
   "cell_type": "markdown",
   "metadata": {},
   "source": [
    "### Define train and test function\n",
    "\n",
    "Complete the function for training and evaluating the model. You must use the cross entropy loss function for training the model.\n",
    "\n",
    "Note:\n",
    "- `permute` is a function passed as an argument to train and test functions.\n",
    "- `permutation_order` is a 1D torch array of size 784 (=28*28). It contains the random order for permutating the pixels in the `28x28` images."
   ]
  },
  {
   "cell_type": "code",
   "execution_count": 12,
   "metadata": {},
   "outputs": [],
   "source": [
    "def train(epoch, model, optimizer, permute_pixels=None, permutation_order=None):\n",
    "    \"\"\"\n",
    "    Train the model for one epoch\n",
    "\n",
    "    Args:\n",
    "        epoch (int): current epoch\n",
    "        model (nn.Module): model to train\n",
    "        optimizer (torch.optim): optimizer to use\n",
    "        permute_pixels (function): function to permute the pixels (default: None)\n",
    "        permutation_order (1D torch array): order of the permutation (default: None)\n",
    "    \"\"\"\n",
    "    model.train()\n",
    "    for batch_idx, (data, target) in enumerate(train_loader):\n",
    "        # send to device\n",
    "        data, target = data.to(device), target.to(device)\n",
    "        \n",
    "        # permute pixels\n",
    "        if permute_pixels is not None:\n",
    "            data = permute_pixels(data, permutation_order)\n",
    "            \n",
    "        optimizer.zero_grad()\n",
    "        output = model(data)\n",
    "        loss_func = nn.CrossEntropyLoss()\n",
    "        loss = loss_func(output, target)\n",
    "        loss.backward()\n",
    "        optimizer.step()\n",
    "        if batch_idx % 100 == 0:\n",
    "            #loss, current = loss.item, batch * len(x)\n",
    "            print('Train Epoch: {} [{}/{} ({:.0f}%)]\\tLoss: {:.6f}'.format(\n",
    "                epoch, batch_idx * len(data), len(train_loader.dataset),\n",
    "                100. * batch_idx / len(train_loader), loss.item()))\n",
    "\n",
    "def test(model, permute_pixels=None, permutation_order=None):\n",
    "\n",
    "    \"\"\"\n",
    "    Test the model\n",
    "\n",
    "    Args:\n",
    "        model (nn.Module): model to test\n",
    "        permute (function): function to permute the pixels (default: None)\n",
    "        permutation_order (1D torch array): order of the permutation (default: None)\n",
    "    \"\"\"\n",
    "    #size = len(dataloader.dataset)\n",
    "    #n_batches = len(dataloader)\n",
    "    model.eval()\n",
    "    test_loss = 0\n",
    "    correct = 0\n",
    "    for data, target in test_loader:\n",
    "        # send to device\n",
    "        data, target = data.to(device), target.to(device)\n",
    "        \n",
    "        # permute pixels\n",
    "        if permute_pixels is not None:\n",
    "            data = permute_pixels(data, permutation_order)\n",
    "\n",
    "        \n",
    "        output = model(data)\n",
    "        loss_func = nn.CrossEntropyLoss()\n",
    "        loss = loss_func(output, target)\n",
    "        test_loss += loss # sum up batch loss                                                               \n",
    "        pred = np.argmax(output.detach().numpy(), axis=1)  # get the index of the max log-probability                                                                 \n",
    "        correct += sum(target.numpy()==pred)\n",
    "\n",
    "    test_loss /= len(test_loader.dataset)\n",
    "    accuracy = 100. * correct / len(test_loader.dataset)\n",
    "    print('\\nTest set: Average loss: {:.4f}, Accuracy: {}/{} ({:.0f}%)\\n'.format(\n",
    "        test_loss, correct, len(test_loader.dataset),\n",
    "        accuracy))\n",
    "    return accuracy"
   ]
  },
  {
   "cell_type": "markdown",
   "metadata": {},
   "source": [
    "# Write a function for computing the total parameter count of the model"
   ]
  },
  {
   "cell_type": "code",
   "execution_count": 13,
   "metadata": {},
   "outputs": [],
   "source": [
    "# function to count number of parameters\n",
    "def get_n_params(model):\n",
    "    n=0\n",
    "    for p in model_fcn.parameters():\n",
    "        n+=np.prod(p.shape)\n",
    "    return n"
   ]
  },
  {
   "cell_type": "markdown",
   "metadata": {},
   "source": [
    "### Train a small fully-connected network\n",
    "\n",
    "Optimizer : SGD with lr=0.01 and momentum=0.5"
   ]
  },
  {
   "cell_type": "code",
   "execution_count": 14,
   "metadata": {},
   "outputs": [
    {
     "name": "stdout",
     "output_type": "stream",
     "text": [
      "Number of parameters: 6442\n",
      "Train Epoch: 0 [0/60000 (0%)]\tLoss: 2.344874\n",
      "Train Epoch: 0 [6400/60000 (11%)]\tLoss: 1.645499\n",
      "Train Epoch: 0 [12800/60000 (21%)]\tLoss: 1.011392\n",
      "Train Epoch: 0 [19200/60000 (32%)]\tLoss: 0.698525\n",
      "Train Epoch: 0 [25600/60000 (43%)]\tLoss: 0.590005\n",
      "Train Epoch: 0 [32000/60000 (53%)]\tLoss: 0.542240\n",
      "Train Epoch: 0 [38400/60000 (64%)]\tLoss: 0.465466\n",
      "Train Epoch: 0 [44800/60000 (75%)]\tLoss: 0.370271\n",
      "Train Epoch: 0 [51200/60000 (85%)]\tLoss: 0.448254\n",
      "Train Epoch: 0 [57600/60000 (96%)]\tLoss: 0.623803\n",
      "\n",
      "Test set: Average loss: 0.0004, Accuracy: 8708/10000 (87%)\n",
      "\n"
     ]
    }
   ],
   "source": [
    "n_hidden = 8 # number of hidden units\n",
    "\n",
    "model_fcn = FCN(input_size, n_hidden, output_size)\n",
    "model_fcn.to(device)\n",
    "optimizer = torch.optim.SGD(model_fcn.parameters(), lr=0.01, momentum=0.5) # use SGD with learning rate 0.01 and momentum 0.5\n",
    "print('Number of parameters: {}'.format(get_n_params(model_fcn)))\n",
    "\n",
    "test_accuracy = []\n",
    "for epoch in range(0, 1):\n",
    "    train(epoch, model_fcn, optimizer)\n",
    "    test_accuracy.append(test(model_fcn))"
   ]
  },
  {
   "cell_type": "markdown",
   "metadata": {},
   "source": [
    "## Train a Convolutional Neural Network (CNN) on MNIST"
   ]
  },
  {
   "cell_type": "markdown",
   "metadata": {},
   "source": [
    "Define a convolutional neural network with the following architecture to classify the MNIST images.\n",
    "\n",
    "```\n",
    "Conv( \n",
    "    conv2D(input_size, conv_feature, kernel_size=5)\n",
    "    relu()\n",
    "    maxpool2d(kernel_size=2)\n",
    "    conv2d(conv_feature, conv_feature, kernel_size=5)\n",
    "    relu()\n",
    "    maxpool2d(kernel_size=2)\n",
    ")\n",
    "\n",
    "FC(\n",
    "    linear_feature(conv_feature*4*4, fc_feature),\n",
    "    relu(),\n",
    "    linear_feature(fc_feature, output_size),\n",
    "    log_softmax()\n",
    ")\n",
    "```"
   ]
  },
  {
   "cell_type": "code",
   "execution_count": 15,
   "metadata": {},
   "outputs": [],
   "source": [
    "class CNN(nn.Module):\n",
    "    def __init__(self, input_size, conv_feature, fc_feature, output_size):\n",
    "        super(CNN, self).__init__()\n",
    "        self.hidden1 = nn.Conv2d(input_size, conv_feature, kernel_size=(5,5))\n",
    "        self.act1 = nn.ReLU()\n",
    "        self.pool1 = nn.MaxPool2d(kernel_size=2)\n",
    "        \n",
    "        self.hidden2 = nn.Conv2d(conv_feature, conv_feature, kernel_size=5)\n",
    "        self.act2 = nn.ReLU()\n",
    "        self.pool2 = nn.MaxPool2d(kernel_size=2)\n",
    "\n",
    "        self.flatten = nn.Flatten()\n",
    "        self.hidden3 = nn.Linear(conv_feature*4*4, fc_feature)\n",
    "        self.act3 = nn.ReLU()\n",
    "        self.hidden4 = nn.Linear(fc_feature, output_size)\n",
    "        self.act4 = nn.LogSoftmax(dim=1)\n",
    "        pass\n",
    "        \n",
    "    def forward(self, x):\n",
    "        x = self.hidden1(x)\n",
    "        x = self.act1(x)\n",
    "        x = self.pool1(x)\n",
    "        \n",
    "        x = self.hidden2(x)\n",
    "        x = self.act2(x)\n",
    "        x = self.pool2(x)\n",
    "        \n",
    "        x = self.flatten(x)\n",
    "        x = self.hidden3(x)\n",
    "        x = self.act3(x)\n",
    "\n",
    "        x = self.hidden4(x)\n",
    "        x = self.act4(x)\n",
    "        \n",
    "        return x"
   ]
  },
  {
   "cell_type": "markdown",
   "metadata": {},
   "source": [
    "### Train a ConvNet with the same number of parameters"
   ]
  },
  {
   "cell_type": "code",
   "execution_count": 16,
   "metadata": {},
   "outputs": [
    {
     "name": "stdout",
     "output_type": "stream",
     "text": [
      "Number of parameters: 6442\n",
      "Train Epoch: 0 [0/60000 (0%)]\tLoss: 2.305313\n",
      "Train Epoch: 0 [6400/60000 (11%)]\tLoss: 1.928372\n",
      "Train Epoch: 0 [12800/60000 (21%)]\tLoss: 0.552642\n",
      "Train Epoch: 0 [19200/60000 (32%)]\tLoss: 0.408070\n",
      "Train Epoch: 0 [25600/60000 (43%)]\tLoss: 0.554583\n",
      "Train Epoch: 0 [32000/60000 (53%)]\tLoss: 0.284567\n",
      "Train Epoch: 0 [38400/60000 (64%)]\tLoss: 0.336394\n",
      "Train Epoch: 0 [44800/60000 (75%)]\tLoss: 0.208960\n",
      "Train Epoch: 0 [51200/60000 (85%)]\tLoss: 0.346233\n",
      "Train Epoch: 0 [57600/60000 (96%)]\tLoss: 0.108477\n",
      "\n",
      "Test set: Average loss: 0.0002, Accuracy: 9371/10000 (94%)\n",
      "\n"
     ]
    }
   ],
   "source": [
    "# Training settings \n",
    "conv_features = 6 # number of feature maps\n",
    "fc_features = 50\n",
    "\n",
    "model_cnn = CNN(1, conv_features, fc_features, output_size=10) # create CNN model\n",
    "model_cnn.to(device)\n",
    "optimizer = torch.optim.SGD(model_cnn.parameters(), lr=0.01, momentum=0.5) # use SGD with learning rate 0.01 and momentum 0.5\n",
    "print('Number of parameters: {}'.format(get_n_params(model_cnn)))\n",
    "\n",
    "for epoch in range(0, 1):\n",
    "    train(epoch, model_cnn, optimizer)\n",
    "    test_accuracy.append(test(model_cnn))"
   ]
  },
  {
   "cell_type": "code",
   "execution_count": 71,
   "metadata": {},
   "outputs": [
    {
     "data": {
      "text/plain": [
       "[86.3, 94.16]"
      ]
     },
     "execution_count": 71,
     "metadata": {},
     "output_type": "execute_result"
    }
   ],
   "source": [
    "test_accuracy"
   ]
  },
  {
   "cell_type": "markdown",
   "metadata": {},
   "source": [
    "### Question: Why do you think the ConvNet performs better than the fully connected network even though both have the same number of parameters?\n"
   ]
  },
  {
   "cell_type": "markdown",
   "metadata": {},
   "source": [
    "The ConvNet performs better because there is a strong relationship and correlation between certain data points (neighboring pixels). This is because we have image data where adjacent pixels will typically have similar colors and pixels having a certain color value will likely be clustrered together in a similar region. The ConvNet uses a filter which is basically a smaller region of the original image that goes into creating a feature map, based on data from these subregions. This helps the overall accuracy because it is able to process and analyze different things like edges, and angles which creates more relevant features for the actual image. On the other hand, the fully connected nueral network does not do all of that, rather it just looks at each point independently and does not consider any relationships between neighbors."
   ]
  },
  {
   "cell_type": "markdown",
   "metadata": {},
   "source": [
    "### What happens if the assumptions are no longer true?"
   ]
  },
  {
   "cell_type": "code",
   "execution_count": 12,
   "metadata": {},
   "outputs": [],
   "source": [
    "# Given a permutation order, permute the pixels of the input image\n",
    "def permute_pixels(data, permutation_order):\n",
    "    \"\"\"\n",
    "    Permute the pixels of the input image\n",
    "    \n",
    "    Args:\n",
    "        data (torch tensor): batch of input images of shape (B, H, W) where B is the batch size, H is the height and W is the width.\n",
    "        permutation_order (1D torch array): order of the permutation\n",
    "    \n",
    "    Returns:\n",
    "        permuted_data (torch tensor): permuted batch of input images of shape (B, 1, H, W)\n",
    "    \"\"\"\n",
    "    \n",
    "    return data.reshape(-1,28*28)[:,permutation_order].reshape(-1,1,28,28)"
   ]
  },
  {
   "cell_type": "code",
   "execution_count": 6,
   "metadata": {},
   "outputs": [],
   "source": [
    "permutation_order = torch.randperm(28*28)"
   ]
  },
  {
   "cell_type": "markdown",
   "metadata": {},
   "source": [
    "### ConvNet with permuted pixels\n",
    "\n",
    "Train and evaluate a ConvNet with permuted pixels."
   ]
  },
  {
   "cell_type": "code",
   "execution_count": 19,
   "metadata": {},
   "outputs": [
    {
     "name": "stdout",
     "output_type": "stream",
     "text": [
      "Number of parameters: 6442\n",
      "Train Epoch: 0 [0/60000 (0%)]\tLoss: 2.338363\n",
      "Train Epoch: 0 [6400/60000 (11%)]\tLoss: 2.251196\n",
      "Train Epoch: 0 [12800/60000 (21%)]\tLoss: 2.148391\n",
      "Train Epoch: 0 [19200/60000 (32%)]\tLoss: 1.791972\n",
      "Train Epoch: 0 [25600/60000 (43%)]\tLoss: 1.169852\n",
      "Train Epoch: 0 [32000/60000 (53%)]\tLoss: 0.612046\n",
      "Train Epoch: 0 [38400/60000 (64%)]\tLoss: 0.851448\n",
      "Train Epoch: 0 [44800/60000 (75%)]\tLoss: 0.735512\n",
      "Train Epoch: 0 [51200/60000 (85%)]\tLoss: 0.425552\n",
      "Train Epoch: 0 [57600/60000 (96%)]\tLoss: 0.521650\n",
      "\n",
      "\n",
      "Test set: Average loss: 0.0006, Accuracy: 8136/10000 (81%)\n",
      "\n"
     ]
    }
   ],
   "source": [
    "# Training settings \n",
    "conv_features = 6 # number of feature maps\n",
    "fc_features = 50\n",
    "\n",
    "model_cnn = CNN(1, conv_features, fc_features, output_size=10) # create CNN model\n",
    "model_cnn.to(device)\n",
    "optimizer = torch.optim.SGD(model_cnn.parameters(), lr=0.01,momentum=0.5) # use SGD with learning rate 0.01 and momentum 0.5\n",
    "print('Number of parameters: {}'.format(get_n_params(model_cnn)))\n",
    "\n",
    "for epoch in range(0, 1):\n",
    "    train(epoch, model_cnn, optimizer, permute_pixels, permutation_order)\n",
    "    print()\n",
    "    test(model_cnn, permute_pixels, permutation_order)"
   ]
  },
  {
   "cell_type": "markdown",
   "metadata": {},
   "source": [
    "### Fully-Connected with Permuted Pixels\n",
    "\n",
    "Train and evaluate a fully connected network with permuted pixels."
   ]
  },
  {
   "cell_type": "code",
   "execution_count": 20,
   "metadata": {},
   "outputs": [
    {
     "name": "stdout",
     "output_type": "stream",
     "text": [
      "Number of parameters: 6442\n",
      "Train Epoch: 0 [0/60000 (0%)]\tLoss: 2.329360\n",
      "Train Epoch: 0 [6400/60000 (11%)]\tLoss: 1.475784\n",
      "Train Epoch: 0 [12800/60000 (21%)]\tLoss: 0.937501\n",
      "Train Epoch: 0 [19200/60000 (32%)]\tLoss: 0.636677\n",
      "Train Epoch: 0 [25600/60000 (43%)]\tLoss: 0.651288\n",
      "Train Epoch: 0 [32000/60000 (53%)]\tLoss: 0.589767\n",
      "Train Epoch: 0 [38400/60000 (64%)]\tLoss: 0.489365\n",
      "Train Epoch: 0 [44800/60000 (75%)]\tLoss: 0.333443\n",
      "Train Epoch: 0 [51200/60000 (85%)]\tLoss: 0.298442\n",
      "Train Epoch: 0 [57600/60000 (96%)]\tLoss: 0.294525\n",
      "\n",
      "Test set: Average loss: 0.0004, Accuracy: 8819/10000 (88%)\n",
      "\n"
     ]
    }
   ],
   "source": [
    "n_hidden = 8    # number of hidden units\n",
    "\n",
    "model_fnn = FCN(input_size, n_hidden, output_size)\n",
    "model_fnn.to(device)\n",
    "optimizer = torch.optim.SGD(model_fnn.parameters(), lr=0.01, momentum=0.5) # use SGD with learning rate 0.01 and momentum 0.5\n",
    "print('Number of parameters: {}'.format(get_n_params(model_fnn)))\n",
    "\n",
    "for epoch in range(0, 1):\n",
    "    train(epoch, model_fnn, optimizer, permute_pixels)\n",
    "    test(model_fnn, permute_pixels)"
   ]
  },
  {
   "cell_type": "markdown",
   "metadata": {},
   "source": [
    "### Question: We observe that the ConvNet's performance drops when we permute the pixels, but the Fully-Connected Network's performance stays the same. Provide an explanation for this."
   ]
  },
  {
   "cell_type": "markdown",
   "metadata": {},
   "source": [
    "The main reason for this is that the pixels are now out of order (as shown in the image below) which nullifies the correlation between neighboring pixels. This hurts the ConvNet's performance because it has the capability to take advantage of this correlation as it utilizes filters and creates a feature map. After the pixels are scattered, there are no similarities in color bewteen adjacent pixels so there is no real advatange to using these filters because the pixels in each region are completley randomized. The Fully-Connected Network is unaffected by this because it just looks at each pixel individually anyway, so relationships between neighbors are not taken into account. It can perfrom just as well when the pixels are out of order because the overall process is still the same. This is shown by the fact that the accuracy dropped from 94% to 81% for the ConvNet while the accuracy stayed basically the same for the Fully-Connected Network."
   ]
  },
  {
   "cell_type": "code",
   "execution_count": 15,
   "metadata": {},
   "outputs": [
    {
     "data": {
      "image/png": "[encoded data removed]",
      "text/plain": [
       "<Figure size 1152x864 with 20 Axes>"
      ]
     },
     "metadata": {
      "needs_background": "light"
     },
     "output_type": "display_data"
    }
   ],
   "source": [
    "plt.figure(figsize=(16, 12))\n",
    "for i in range(10):\n",
    "    image, _ = train_loader.dataset.__getitem__(i)\n",
    "    # permute pixels\n",
    "    image_perm = permute_pixels(image.clone(), permutation_order)\n",
    "    plt.subplot(4, 5, i + 1)\n",
    "    plt.imshow(image.squeeze().numpy())\n",
    "    plt.axis('off')\n",
    "    plt.subplot(4, 5, i + 11)\n",
    "    plt.imshow(image_perm.squeeze().numpy())\n",
    "    plt.axis('off')"
   ]
  },
  {
   "cell_type": "code",
   "execution_count": null,
   "metadata": {},
   "outputs": [],
   "source": []
  }
 ],
 "metadata": {
  "kernelspec": {
   "display_name": "Python 3 (ipykernel)",
   "language": "python",
   "name": "python3"
  },
  "language_info": {
   "codemirror_mode": {
    "name": "ipython",
    "version": 3
   },
   "file_extension": ".py",
   "mimetype": "text/x-python",
   "name": "python",
   "nbconvert_exporter": "python",
   "pygments_lexer": "ipython3",
   "version": "3.9.12"
  },
  "vscode": {
   "interpreter": {
    "hash": "fc6f77fc95e5420108aa348103e4498d1d0de016cf7e1fd7da540445454c305d"
   }
  }
 },
 "nbformat": 4,
 "nbformat_minor": 2
}
