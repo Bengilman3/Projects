{
 "cells": [
  {
   "cell_type": "markdown",
   "id": "51e241a2",
   "metadata": {},
   "source": [
    "# Decision Tree\n",
    "\n",
    "Implementing a decision tree classifier to detect spam"
   ]
  },
  {
   "cell_type": "code",
   "execution_count": 2,
   "id": "e910e14c",
   "metadata": {},
   "outputs": [],
   "source": [
    "import pandas as pd\n",
    "import matplotlib.pyplot as plt\n",
    "import seaborn as sns\n",
    "import sklearn\n",
    "import sklearn.preprocessing\n",
    "import numpy as np\n",
    "\n",
    "from sklearn.model_selection import train_test_split\n",
    "from sklearn.preprocessing import StandardScaler\n",
    "from sklearn.metrics import accuracy_score\n",
    "from sklearn import tree"
   ]
  },
  {
   "cell_type": "code",
   "execution_count": 3,
   "id": "05741912",
   "metadata": {},
   "outputs": [],
   "source": [
    "data = pd.read_csv(\"spambase.data\", header=None)\n",
    "X = data.drop([57], axis=1) #drop target feature and keep the rest as X\n",
    "Y = data[57] # save the target feature as Y"
   ]
  },
  {
   "cell_type": "code",
   "execution_count": 50,
   "id": "a8c45e32",
   "metadata": {},
   "outputs": [
    {
     "name": "stdout",
     "output_type": "stream",
     "text": [
      "Best gini impurity:  0.9268645908761767\n",
      "Best shannon i.g:  0.9319333816075308\n"
     ]
    }
   ],
   "source": [
    "sc = StandardScaler() #Used to standardize the data \n",
    "results1 = []\n",
    "results2 = []\n",
    "seeds = np.arange(20)\n",
    "for x in range(20): #for 20 seeds\n",
    "        X_train, X_test, Y_train, Y_test = train_test_split(X, Y, test_size=0.3, random_state=seeds[x])\n",
    "        sc.fit(X_train)\n",
    "        X_train = pd.DataFrame(sc.transform(X_train))\n",
    "        X_test = pd.DataFrame(sc.transform(X_test))\n",
    "        model1 = tree.DecisionTreeClassifier(criterion = 'gini', random_state=seeds[x]) #Test gini impurity\n",
    "        model1.fit(X_train, Y_train)\n",
    "        pred = model1.predict(X_test)\n",
    "        results1.append(accuracy_score(Y_test, pred))\n",
    "        \n",
    "        model2 = tree.DecisionTreeClassifier(criterion = 'entropy', random_state=seeds[x]) #Test entropy\n",
    "        model2.fit(X_train, Y_train)\n",
    "        pred = model2.predict(X_test)\n",
    "        results2.append(accuracy_score(Y_test, pred))\n",
    "#Take best accuracy score\n",
    "best1 = max(results1)    \n",
    "best2 = max(results2)\n",
    "print('Best gini impurity: ', best1)\n",
    "print('Best shannon i.g: ', best2)"
   ]
  }
 ],
 "metadata": {
  "kernelspec": {
   "display_name": "Python 3 (ipykernel)",
   "language": "python",
   "name": "python3"
  },
  "language_info": {
   "codemirror_mode": {
    "name": "ipython",
    "version": 3
   },
   "file_extension": ".py",
   "mimetype": "text/x-python",
   "name": "python",
   "nbconvert_exporter": "python",
   "pygments_lexer": "ipython3",
   "version": "3.9.12"
  }
 },
 "nbformat": 4,
 "nbformat_minor": 5
}
